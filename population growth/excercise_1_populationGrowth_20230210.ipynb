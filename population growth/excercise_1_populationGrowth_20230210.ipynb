{
 "cells": [
  {
   "cell_type": "code",
   "execution_count": 1,
   "metadata": {},
   "outputs": [],
   "source": [
    "import numpy as np\n",
    "import matplotlib.pyplot as plt\n",
    "import pandas as pd\n",
    "import ipywidgets\n",
    "import plotly.express as px\n",
    "from plotly import __version__\n",
    "from plotly.offline import download_plotlyjs, init_notebook_mode, plot, iplot \n",
    "import plotly.offline as pyo\n",
    "import plotly.graph_objs as go"
   ]
  },
  {
   "cell_type": "code",
   "execution_count": 2,
   "metadata": {},
   "outputs": [
    {
     "data": {
      "text/plain": [
       "[<matplotlib.lines.Line2D at 0x233de6054c0>]"
      ]
     },
     "execution_count": 2,
     "metadata": {},
     "output_type": "execute_result"
    },
    {
     "data": {
      "image/png": "[encoded data removed]",
      "text/plain": [
       "<Figure size 432x288 with 1 Axes>"
      ]
     },
     "metadata": {
      "needs_background": "light"
     },
     "output_type": "display_data"
    }
   ],
   "source": [
    "# variables\n",
    "initialPopulation=2 \n",
    "years=100\n",
    "alpha=0.1\n",
    "# Basic next years p equation\n",
    "p1=initialPopulation+alpha*initialPopulation\n",
    "# p holds on the p values every year\n",
    "p=[initialPopulation] # set initial value of population to firt balue of array as p0\n",
    "# Loop the following operation for each year\n",
    "for i in range(years-1):  # year-1 as we already assigned first year\n",
    "    p.append(p[-1]+alpha*p[-1]) # append every cumilative population to array\n",
    "years_arr=np.arange(0,years,1) # create array of years for plotting\n",
    "np_p=np.array(p) # convery calculated population to np array\n",
    "\n",
    "df=pd.DataFrame(years_arr,p)\n",
    "plt.plot(years_arr,p)"
   ]
  },
  {
   "cell_type": "code",
   "execution_count": 3,
   "metadata": {},
   "outputs": [
    {
     "data": {
      "application/vnd.jupyter.widget-view+json": {
       "model_id": "1c480ced6db54a3e8780f7926e83181b",
       "version_major": 2,
       "version_minor": 0
      },
      "text/plain": [
       "interactive(children=(IntSlider(value=2, description='initialPopulation', max=1000), Dropdown(description='alp…"
      ]
     },
     "metadata": {},
     "output_type": "display_data"
    },
    {
     "data": {
      "text/plain": [
       "<function __main__.pop_growth(initialPopulation=2, alpha=0.1, years=100)>"
      ]
     },
     "execution_count": 3,
     "metadata": {},
     "output_type": "execute_result"
    }
   ],
   "source": [
    "# Creating function for creating the cumilative population and plotting the data\n",
    "def pop_growth(initialPopulation=2,alpha=0.1,years=100):\n",
    "    p=[initialPopulation] # p holds on the population values every year\n",
    "    for i in range(years-1): # year-1 as we already assigned first year\n",
    "        p.append(p[-1]+alpha*p[-1])# append every cumilative population to array\n",
    "    years_arr=np.arange(0,years,1) # create array of years for plotting\n",
    "    plt.plot(years_arr,p,color='green',linewidth=2) \n",
    "    plt.xlabel('Years')\n",
    "    plt.ylabel('Total Population')\n",
    "    plt.title(\"Population Growth\")\n",
    "ipywidgets.interact(pop_growth, initialPopulation=(0,1000),alpha=[1,0.1,0.01,0.001],years=(50,500))"
   ]
  },
  {
   "cell_type": "code",
   "execution_count": 12,
   "metadata": {},
   "outputs": [
    {
     "data": {
      "application/vnd.jupyter.widget-view+json": {
       "model_id": "224211302a544951a3d3088c3dda7d19",
       "version_major": 2,
       "version_minor": 0
      },
      "text/plain": [
       "interactive(children=(IntSlider(value=2, description='initialPopulation', max=1000), Dropdown(description='bet…"
      ]
     },
     "metadata": {},
     "output_type": "display_data"
    },
    {
     "data": {
      "text/plain": [
       "<function __main__.growth_rate(initialPopulation=2, beta=0.1, years=100)>"
      ]
     },
     "execution_count": 12,
     "metadata": {},
     "output_type": "execute_result"
    }
   ],
   "source": [
    "def growth_rate(initialPopulation=2,beta=0.1,years=100):\n",
    "    growth_rate=[0.2]\n",
    "    p=[initialPopulation] # p holds on the population values every year\n",
    "    #for i in range(years-1): # year-1 as we already assigned first year\n",
    "    \n",
    "    while p[-1]<500:\n",
    "        p.append(p[-1]+beta*p[-1])# append every cumilative population to array\n",
    "        growth_rate.append((200-p[-1]))\n",
    "    years_arr=np.arange(0,years,1) # create array of years for plotting\n",
    "    plt.plot(p,growth_rate,color='green',linewidth=2) \n",
    "    plt.xlabel('Total Population')\n",
    "    plt.ylabel('Growth Rate')\n",
    "    plt.title(\"Growth Rate Function Plot (alpha(p))\")\n",
    "ipywidgets.interact(growth_rate, initialPopulation=(0,1000),beta=[1,0.1,0.01,0.001],years=(50,500))"
   ]
  },
  {
   "cell_type": "code",
   "execution_count": null,
   "metadata": {},
   "outputs": [
    {
     "data": {
      "application/vnd.jupyter.widget-view+json": {
       "model_id": "d17135dafc3d4eea86e489707aafc8a2",
       "version_major": 2,
       "version_minor": 0
      },
      "text/plain": [
       "interactive(children=(IntSlider(value=2, description='initialPopulation'), Dropdown(description='alpha', index…"
      ]
     },
     "metadata": {},
     "output_type": "display_data"
    },
    {
     "data": {
      "text/plain": [
       "<function __main__.pop_growth_Beta(initialPopulation=2, alpha=0.01, years=100, beta=0.001)>"
      ]
     },
     "execution_count": 3,
     "metadata": {},
     "output_type": "execute_result"
    }
   ],
   "source": [
    "def pop_growth_Beta(initialPopulation=2,alpha=0.01,years=100,beta=0.001):\n",
    "    p=[initialPopulation]\n",
    "    for i in range(years-1):\n",
    "        p.append(p[-1]+beta*p[-1]*(200-p[-1]))\n",
    "    plt.plot(np.linspace(1,100,years),p,color='green',linewidth=2)\n",
    "    plt.xlabel('Years')\n",
    "    plt.ylabel('Total Population')\n",
    "    plt.title(\"Population Growth\")\n",
    "    #px.line(np.linspace(1,100,years),p,x=\"Year\",y=\"Population\")\n",
    "ipywidgets.interact(pop_growth_Beta, initialPopulation=(0,100),alpha=[0.1,0.01,0.001],years=(50,500),beta=[0.1,0.5,0.01,0.001])"
   ]
  }
 ],
 "metadata": {
  "kernelspec": {
   "display_name": "base",
   "language": "python",
   "name": "python3"
  },
  "language_info": {
   "codemirror_mode": {
    "name": "ipython",
    "version": 3
   },
   "file_extension": ".py",
   "mimetype": "text/x-python",
   "name": "python",
   "nbconvert_exporter": "python",
   "pygments_lexer": "ipython3",
   "version": "3.9.12"
  },
  "orig_nbformat": 4,
  "vscode": {
   "interpreter": {
    "hash": "ad2bdc8ecc057115af97d19610ffacc2b4e99fae6737bb82f5d7fb13d2f2c186"
   }
  }
 },
 "nbformat": 4,
 "nbformat_minor": 2
}
