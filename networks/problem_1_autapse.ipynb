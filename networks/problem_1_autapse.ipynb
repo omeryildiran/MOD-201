{
 "cells": [
  {
   "cell_type": "code",
   "execution_count": 8,
   "metadata": {},
   "outputs": [],
   "source": [
    "import numpy as np\n",
    "import matplotlib.pyplot as plt\n",
    "import seaborn as sns\n",
    "import pandas as pd\n",
    "import plotly.express as px\n",
    "import plotly.graph_objects as go\n",
    "import plotly.io as pio\n"
   ]
  },
  {
   "attachments": {},
   "cell_type": "markdown",
   "metadata": {},
   "source": [
    "We assume that the neuron’s firing rate x, i.e., its average number of action\n",
    "potentials per second, is given by the differential equation\n",
    "\n",
    "$$\n",
    "x'(t)= -x(t)+f(wx(t)+I)\n",
    "$$\n",
    "\n",
    "where w = 0.04 is the strength of the synaptic connection and I = −2 is some constant, external\n",
    "(and inhibitory) background input. The input-output (or activation) function of the neuron is given by a sigmoidal function which we assume to be \n",
    "\n",
    "$$\n",
    "⁍\n",
    "$$\n",
    "\n",
    " where s is the total input to the neuron.\n",
    "\n",
    "Programming Help: The hyperbolic tangent is defined as\n",
    "\n",
    "$$\n",
    "tanh(x)=(e^x-e^{-x})/(e^x+e^{-x})\n",
    "$$"
   ]
  },
  {
   "cell_type": "code",
   "execution_count": 9,
   "metadata": {},
   "outputs": [],
   "source": [
    "# input output function\n",
    "def activation_function(x):\n",
    "    return 50*(1+np.tanh(x))\n",
    "\n",
    "# x firing rate\n",
    "i=-2 #some constant\n",
    "w = 0.04 # w weight strenth of synapse\n",
    "\n",
    "def firing_rate_change(x, w):\n",
    "    return -x + (activation_function(w*x+i))"
   ]
  },
  {
   "attachments": {},
   "cell_type": "markdown",
   "metadata": {},
   "source": [
    "(a) Plot the neuron’s activation function f(s) against s. Choose a suitable range of inputs.\n"
   ]
  },
  {
   "cell_type": "code",
   "execution_count": 10,
   "metadata": {},
   "outputs": [
    {
     "data": {
      "text/plain": [
       "[<matplotlib.lines.Line2D at 0x214c7599070>]"
      ]
     },
     "execution_count": 10,
     "metadata": {},
     "output_type": "execute_result"
    },
    {
     "data": {
      "image/png": "[encoded data removed]",
      "text/plain": [
       "<Figure size 432x288 with 1 Axes>"
      ]
     },
     "metadata": {
      "needs_background": "light"
     },
     "output_type": "display_data"
    }
   ],
   "source": [
    "inputs = np.arange(-2, 2, 0.01)\n",
    "outputs = activation_function(inputs)\n",
    "delta_firing_rate= firing_rate_change(inputs, w)\n",
    "plt.plot(inputs, outputs)\n",
    "plt.plot(inputs, delta_firing_rate)"
   ]
  },
  {
   "cell_type": "code",
   "execution_count": null,
   "metadata": {},
   "outputs": [],
   "source": []
  }
 ],
 "metadata": {
  "kernelspec": {
   "display_name": "base",
   "language": "python",
   "name": "python3"
  },
  "language_info": {
   "codemirror_mode": {
    "name": "ipython",
    "version": 3
   },
   "file_extension": ".py",
   "mimetype": "text/x-python",
   "name": "python",
   "nbconvert_exporter": "python",
   "pygments_lexer": "ipython3",
   "version": "3.8.5"
  },
  "orig_nbformat": 4
 },
 "nbformat": 4,
 "nbformat_minor": 2
}
